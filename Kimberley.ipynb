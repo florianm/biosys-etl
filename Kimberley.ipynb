{
 "cells": [
  {
   "cell_type": "markdown",
   "metadata": {},
   "source": [
    "# Overview\n",
    "This notebook will contain the loading component of the Kimberley data loading procedure.\n",
    "\n",
    "In preparation, the original data will have been \n",
    "\n",
    "* uploaded as-is to DPaW's internal CKAN data catalogue, \n",
    "* cleaned in OpenRefine (extract & tranform),\n",
    "* exported as CSV from OpenRefine, and \n",
    "* uploaded as additional resources to the CKAN dataset.\n",
    "\n",
    "This workbook will parse the CSV versions and upload the data to BioSys via its API.\n",
    "Workhorse functions will be located in a separate file `helpers.py`.\n",
    "\n",
    "# Setup\n",
    "Copy `secret_template.py` to `secret.py` and modify to contain your CKAN instance and API key."
   ]
  },
  {
   "cell_type": "code",
   "execution_count": 24,
   "metadata": {
    "collapsed": false
   },
   "outputs": [],
   "source": [
    "import requests, json, urllib, ckanapi, csv\n",
    "\n",
    "from secret import CKAN, LCI, BIOSYS\n",
    "import helpers\n",
    "\n",
    "ck = ckanapi.RemoteCKAN(CKAN[\"dpaw-internal\"][\"url\"], apikey=CKAN[\"dpaw-internal\"][\"key\"])"
   ]
  },
  {
   "cell_type": "markdown",
   "metadata": {},
   "source": [
    "A CKAN resource's URL changes if the file resource changes, but the resource ID will be persistent. The config dict `LCI` lists resource names (from original data worksheet names) against their CKAN resource ID. A helper function `get_data` looks up the CKAN resource ID by name, gets the resource URL from the CKAN API, and opens the CSV file behind the URL as a `csv.DictReader`."
   ]
  },
  {
   "cell_type": "code",
   "execution_count": null,
   "metadata": {
    "collapsed": false
   },
   "outputs": [],
   "source": [
    "sites = get_data(LCI, \"sites\")\n",
    "vegetation = get_data(LCI, \"vegetation\")\n",
    "stratum_summary = get_data(LCI, \"stratum_summary\")\n",
    "dominant_vegetation = get_data(LCI, \"dominant_vegetation\")\n",
    "observations = get_data(LCI, \"observations\")\n",
    "trapping_effort = get_data(LCI, \"trapping_effort\")\n",
    "mammals = get_data(LCI, \"mammals\")\n",
    "bycatch = get_data(LCI, \"bycatch\")\n",
    "birds = get_data(LCI, \"birds\")\n",
    "birds_camera = get_data(LCI, \"birds_camera\")\n",
    "ferals = get_data(LCI, \"ferals\")"
   ]
  },
  {
   "cell_type": "code",
   "execution_count": null,
   "metadata": {
    "collapsed": true
   },
   "outputs": [],
   "source": []
  }
 ],
 "metadata": {
  "kernelspec": {
   "display_name": "Python 2",
   "language": "python",
   "name": "python2"
  },
  "language_info": {
   "codemirror_mode": {
    "name": "ipython",
    "version": 2
   },
   "file_extension": ".py",
   "mimetype": "text/x-python",
   "name": "python",
   "nbconvert_exporter": "python",
   "pygments_lexer": "ipython2",
   "version": "2.7.11"
  }
 },
 "nbformat": 4,
 "nbformat_minor": 0
}
