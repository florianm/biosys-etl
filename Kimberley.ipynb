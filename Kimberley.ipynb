{
 "cells": [
  {
   "cell_type": "markdown",
   "metadata": {},
   "source": [
    "# Overview\n",
    "This notebook will contain the loading component of the Kimberley data loading procedure.\n",
    "\n",
    "In preparation, the original data will have been \n",
    "\n",
    "* uploaded as-is to DPaW's internal CKAN data catalogue, \n",
    "* cleaned in OpenRefine (extract & tranform),\n",
    "* exported as CSV from OpenRefine, and \n",
    "* uploaded as additional resources to the CKAN dataset.\n",
    "\n",
    "This workbook will parse the CSV versions and upload the data to BioSys via its API.\n",
    "Workhorse functions will be located in a separate file `helpers.py`.\n",
    "\n",
    "# Setup\n",
    "Copy `secret_template.py` to `secret.py` and modify to contain your CKAN instance and API key."
   ]
  },
  {
   "cell_type": "code",
   "execution_count": 1,
   "metadata": {
    "collapsed": true
   },
   "outputs": [],
   "source": [
    "import requests, json, urllib\n",
    "\n",
    "from secret import CKAN\n",
    "import helpers\n",
    "\n",
    "url = CKAN[\"dpaw-internal\"][\"url\"]\n",
    "key = CKAN[\"dpaw-internal\"][\"key\"]"
   ]
  },
  {
   "cell_type": "code",
   "execution_count": 2,
   "metadata": {
    "collapsed": false
   },
   "outputs": [
    {
     "data": {
      "text/plain": [
       "'http://internal-data.dpaw.wa.gov.au/'"
      ]
     },
     "execution_count": 2,
     "metadata": {},
     "output_type": "execute_result"
    }
   ],
   "source": [
    "url"
   ]
  },
  {
   "cell_type": "code",
   "execution_count": null,
   "metadata": {
    "collapsed": true
   },
   "outputs": [],
   "source": []
  }
 ],
 "metadata": {
  "kernelspec": {
   "display_name": "Python 2",
   "language": "python",
   "name": "python2"
  },
  "language_info": {
   "codemirror_mode": {
    "name": "ipython",
    "version": 2
   },
   "file_extension": ".py",
   "mimetype": "text/x-python",
   "name": "python",
   "nbconvert_exporter": "python",
   "pygments_lexer": "ipython2",
   "version": "2.7.11"
  }
 },
 "nbformat": 4,
 "nbformat_minor": 0
}
