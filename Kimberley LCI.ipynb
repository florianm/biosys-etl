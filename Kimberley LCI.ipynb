{
 "cells": [
  {
   "cell_type": "markdown",
   "metadata": {},
   "source": [
    "# Overview\n",
    "This notebook will contain the loading component of the Kimberley data loading procedure.\n",
    "\n",
    "In preparation, the original data will have been \n",
    "\n",
    "* uploaded as-is to DPaW's internal CKAN data catalogue, \n",
    "* cleaned in OpenRefine (extract & tranform),\n",
    "* exported as CSV from OpenRefine, and \n",
    "* uploaded as additional resources to the CKAN dataset.\n",
    "\n",
    "This workbook will parse the CSV versions and upload the data to BioSys via its API.\n",
    "Workhorse functions will be located in a separate file `helpers.py`.\n",
    "\n",
    "# Setup\n",
    "Copy `secret_template.py` to `secret.py` and modify to contain your CKAN instance and API key."
   ]
  },
  {
   "cell_type": "code",
   "execution_count": 1,
   "metadata": {
    "collapsed": false
   },
   "outputs": [],
   "source": [
    "import ckanapi\n",
    "import csv\n",
    "import json\n",
    "import requests\n",
    "\n",
    "from secret import CKAN, LCI, BIOSYS\n",
    "import helpers as h"
   ]
  },
  {
   "cell_type": "markdown",
   "metadata": {},
   "source": [
    "`ck` will be a ckanapi instance that carries your CKAN account's write permissions, and is able to read all public datasets."
   ]
  },
  {
   "cell_type": "code",
   "execution_count": 2,
   "metadata": {
    "collapsed": true
   },
   "outputs": [],
   "source": [
    "ck = ckanapi.RemoteCKAN(CKAN[\"dpaw-internal\"][\"url\"], apikey=CKAN[\"dpaw-internal\"][\"key\"])"
   ]
  },
  {
   "cell_type": "markdown",
   "metadata": {},
   "source": [
    "A CKAN resource's URL changes if the file resource changes, but the resource ID will be persistent. \n",
    "\n",
    "The config dict `LCI` lists resource names (from original data worksheet names) against their CKAN resource ID. \n",
    "\n",
    "A helper function `get_data` reads all configured datasets (CSV resources in CKAN)."
   ]
  },
  {
   "cell_type": "code",
   "execution_count": 10,
   "metadata": {
    "collapsed": false
   },
   "outputs": [
    {
     "data": {
      "text/plain": [
       "{'birds': <csv.DictReader instance at 0x7fac2c293638>,\n",
       " 'birds_camera': <csv.DictReader instance at 0x7fac2c293050>,\n",
       " 'bycatch': <csv.DictReader instance at 0x7fac2c293d88>,\n",
       " 'dominant_vegetation': <csv.DictReader instance at 0x7fac2c1f8f80>,\n",
       " 'ferals': <csv.DictReader instance at 0x7fac2c1f8878>,\n",
       " 'lookups': <csv.DictReader instance at 0x7fac2c0f6ab8>,\n",
       " 'mammals': <csv.DictReader instance at 0x7fac2c2936c8>,\n",
       " 'observations': <csv.DictReader instance at 0x7fac2c0f6f38>,\n",
       " 'sites': <csv.DictReader instance at 0x7fac2c0f6c68>,\n",
       " 'stratum_summary': <csv.DictReader instance at 0x7fac2e5435f0>,\n",
       " 'trapping_effort': <csv.DictReader instance at 0x7fac2c293ea8>,\n",
       " 'vegetation': <csv.DictReader instance at 0x7fac2c099c20>}"
      ]
     },
     "execution_count": 10,
     "metadata": {},
     "output_type": "execute_result"
    }
   ],
   "source": [
    "data = h.get_data(ck, LCI)\n",
    "data"
   ]
  },
  {
   "cell_type": "code",
   "execution_count": 11,
   "metadata": {
    "collapsed": false
   },
   "outputs": [
    {
     "data": {
      "text/plain": [
       "{'Bearing (degree)': '330',\n",
       " 'Collector': 'IR',\n",
       " 'Comments': '',\n",
       " 'Date established': '2011_07_24',\n",
       " 'Date revisited': '',\n",
       " 'Distance to closest water (m) 1': '1300',\n",
       " 'Distance to closest water (m) 2': '',\n",
       " 'Geology': 'Sandstone',\n",
       " 'Geology Code': 'PkI',\n",
       " 'Landform element (20m radius)': 'Levee',\n",
       " 'Landform element code': 'LEV',\n",
       " 'Landform pattern (300m radius)': 'Plateau',\n",
       " 'Latitude': '-14.83883',\n",
       " 'Location': 'Ranger Station',\n",
       " 'Long term annual rainfall': '',\n",
       " 'Longitude': '125.71429',\n",
       " 'Photos taken': 'yes',\n",
       " 'Site No': 'LCI 001',\n",
       " 'Soil colour 1': 'yellow',\n",
       " 'Soil colour 2': 'grey',\n",
       " 'Soil colour 3': 'pale',\n",
       " 'Soil surface texture': 'sandy loam',\n",
       " 'Soil surface texture group': 'SL',\n",
       " 'Survey': 'LCI',\n",
       " 'Tenure': 'MRNP',\n",
       " 'Type of closest water 1': 'riverine permanent',\n",
       " 'Type of closest water 2': '',\n",
       " 'Underlaying geology ': 'King Leopold Sandstone',\n",
       " 'Veg': 'Woodland',\n",
       " 'Year': '2011'}"
      ]
     },
     "execution_count": 11,
     "metadata": {},
     "output_type": "execute_result"
    }
   ],
   "source": [
    "[r for r in data[\"sites\"]][0]"
   ]
  },
  {
   "cell_type": "code",
   "execution_count": null,
   "metadata": {
    "collapsed": true
   },
   "outputs": [],
   "source": []
  }
 ],
 "metadata": {
  "kernelspec": {
   "display_name": "Python 2",
   "language": "python",
   "name": "python2"
  },
  "language_info": {
   "codemirror_mode": {
    "name": "ipython",
    "version": 2
   },
   "file_extension": ".py",
   "mimetype": "text/x-python",
   "name": "python",
   "nbconvert_exporter": "python",
   "pygments_lexer": "ipython2",
   "version": "2.7.11"
  }
 },
 "nbformat": 4,
 "nbformat_minor": 0
}
