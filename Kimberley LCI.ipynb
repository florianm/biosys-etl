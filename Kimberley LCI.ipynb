{
 "cells": [
  {
   "cell_type": "markdown",
   "metadata": {},
   "source": [
    "# Overview\n",
    "This notebook will contain the loading component of the Kimberley data loading procedure.\n",
    "\n",
    "In preparation, the original data will have been \n",
    "\n",
    "* uploaded as-is to DPaW's internal CKAN data catalogue, \n",
    "* cleaned in OpenRefine (extract & tranform),\n",
    "* exported as CSV from OpenRefine, and \n",
    "* uploaded as additional resources to the CKAN dataset.\n",
    "\n",
    "This workbook will parse the CSV versions and upload the data to BioSys via its API.\n",
    "Workhorse functions will be located in a separate file `helpers.py`.\n",
    "\n",
    "# Setup\n",
    "Copy `secret_template.py` to `secret.py` and modify to contain your CKAN instance and API key."
   ]
  },
  {
   "cell_type": "code",
   "execution_count": 44,
   "metadata": {
    "collapsed": false
   },
   "outputs": [],
   "source": [
    "import ckanapi\n",
    "import csv\n",
    "import json\n",
    "import requests\n",
    "\n",
    "from secret import CKAN, LCI, BIOSYS\n",
    "#from helpers import get_data\n",
    "\n",
    "ck = ckanapi.RemoteCKAN(CKAN[\"dpaw-internal\"][\"url\"], apikey=CKAN[\"dpaw-internal\"][\"key\"])\n"
   ]
  },
  {
   "cell_type": "markdown",
   "metadata": {},
   "source": [
    "A CKAN resource's URL changes if the file resource changes, but the resource ID will be persistent. \n",
    "\n",
    "The config dict `LCI` lists resource names (from original data worksheet names) against their CKAN resource ID. A helper function `get_data` looks up the CKAN resource ID by name, gets the resource URL from the CKAN API, and opens the CSV file behind the URL as a `csv.DictReader`."
   ]
  },
  {
   "cell_type": "code",
   "execution_count": 47,
   "metadata": {
    "collapsed": false
   },
   "outputs": [
    {
     "data": {
      "text/plain": [
       "{'birds': <csv.DictReader instance at 0x7fe323f1d320>,\n",
       " 'birds_camera': <csv.DictReader instance at 0x7fe3237cf0e0>,\n",
       " 'bycatch': <csv.DictReader instance at 0x7fe3237d54d0>,\n",
       " 'dominant_vegetation': <csv.DictReader instance at 0x7fe323f9bef0>,\n",
       " 'ferals': <csv.DictReader instance at 0x7fe323ec8170>,\n",
       " 'lookups': <csv.DictReader instance at 0x7fe323ef1fc8>,\n",
       " 'mammals': <csv.DictReader instance at 0x7fe33d386290>,\n",
       " 'observations': <csv.DictReader instance at 0x7fe323ef1ef0>,\n",
       " 'sites': <csv.DictReader instance at 0x7fe323ef1b00>,\n",
       " 'stratum_summary': <csv.DictReader instance at 0x7fe323f21b90>,\n",
       " 'trapping_effort': <csv.DictReader instance at 0x7fe323f21f38>,\n",
       " 'vegetation': <csv.DictReader instance at 0x7fe323f1cd40>}"
      ]
     },
     "execution_count": 47,
     "metadata": {},
     "output_type": "execute_result"
    }
   ],
   "source": [
    "data = get_data(ck, LCI)\n",
    "data"
   ]
  },
  {
   "cell_type": "code",
   "execution_count": null,
   "metadata": {
    "collapsed": true
   },
   "outputs": [],
   "source": []
  }
 ],
 "metadata": {
  "kernelspec": {
   "display_name": "Python 2",
   "language": "python",
   "name": "python2"
  },
  "language_info": {
   "codemirror_mode": {
    "name": "ipython",
    "version": 2
   },
   "file_extension": ".py",
   "mimetype": "text/x-python",
   "name": "python",
   "nbconvert_exporter": "python",
   "pygments_lexer": "ipython2",
   "version": "2.7.11"
  }
 },
 "nbformat": 4,
 "nbformat_minor": 0
}
